{
  "nbformat": 4,
  "nbformat_minor": 0,
  "metadata": {
    "colab": {
      "provenance": [],
      "toc_visible": true,
      "authorship_tag": "ABX9TyMEnRMu8wLwqgGISiGU0Nne",
      "include_colab_link": true
    },
    "kernelspec": {
      "name": "python3",
      "display_name": "Python 3"
    },
    "language_info": {
      "name": "python"
    }
  },
  "cells": [
    {
      "cell_type": "markdown",
      "metadata": {
        "id": "view-in-github",
        "colab_type": "text"
      },
      "source": [
        "<a href=\"https://colab.research.google.com/github/munavarhs/Sentiment-Analysis-of-Twitter-Data/blob/main/Twitter_Data_Analysis.ipynb\" target=\"_parent\"><img src=\"https://colab.research.google.com/assets/colab-badge.svg\" alt=\"Open In Colab\"/></a>"
      ]
    },
    {
      "cell_type": "code",
      "execution_count": 1,
      "metadata": {
        "id": "lIfLllbW0Ivy"
      },
      "outputs": [],
      "source": [
        "#Basic libraries\n",
        "import pandas as pd\n",
        "import re\n",
        "import string\n",
        "import numpy as np\n",
        "import matplotlib.pyplot as plt\n",
        "import nltk\n",
        "\n",
        "#using sklearn model to split our testing and training data\n",
        "from sklearn.model_selection import train_test_split\n",
        "\n",
        "#Sentiment Analysis Models\n",
        "from sklearn.feature_extraction.text import CountVectorizer\n",
        "from sklearn.feature_extraction.text import TfidfVectorizer\n",
        "from sklearn.feature_selection import SelectKBest, chi2\n",
        "from gensim.models import Word2Vec\n",
        "import tensorflow_hub as hub\n",
        "\n",
        "# Loading pre-trained Word2Vec model\n",
        "import gensim.downloader as api\n",
        "\n",
        "#using SVM model to preprocess the data\n",
        "from sklearn.svm import SVC\n",
        "\n",
        "\n",
        "#this library is used to predict the accuracy score of the model\n",
        "from sklearn.metrics import accuracy_score\n",
        "\n",
        "#supress warnings\n",
        "import warnings\n",
        "\n",
        "from sklearn.exceptions import ConvergenceWarning\n",
        "\n",
        "# Suppressing ConvergenceWarning\n",
        "warnings.filterwarnings(\"ignore\", category=ConvergenceWarning)\n"
      ]
    },
    {
      "cell_type": "code",
      "source": [
        "df = pd.read_csv(\"dataset.csv\")\n",
        "df.head()\n"
      ],
      "metadata": {
        "colab": {
          "base_uri": "https://localhost:8080/",
          "height": 452
        },
        "id": "i-2oHBoI4SRO",
        "outputId": "3c4fcb8a-11e8-4d5b-cf6c-e6b43232f3b5"
      },
      "execution_count": 2,
      "outputs": [
        {
          "output_type": "execute_result",
          "data": {
            "text/plain": [
              "                    id                                               text  \\\n",
              "0  1538666561615015938      When will the #NYSE #stockmarketcrash happen?   \n",
              "1  1538665013799489536  Aaj ka gyan:\\n\\nIf a company isn't a quality c...   \n",
              "2  1538660868027830274  The stock market needs to crash hard to make i...   \n",
              "3  1538657239849836544  Those who are \"Buying on DIP\" will very soon b...   \n",
              "4  1538654339044196358  @rdrhwke I wish our so-called President were t...   \n",
              "\n",
              "  text_sentiment         username  \\\n",
              "0        Neutral        tradexlnc   \n",
              "1       Negative      niftymonday   \n",
              "2       Negative       kyle132313   \n",
              "3        Neutral  ChintanRajput16   \n",
              "4       Positive      DrPCJustice   \n",
              "\n",
              "                                            hashtags  \\\n",
              "0                       ['NYSE', 'stockmarketcrash']   \n",
              "1  ['stockmarkets', 'stockmarketcrash', 'trading'...   \n",
              "2     ['stockmarketcrash', 'economy', 'rich', 'Fed']   \n",
              "3  ['stockmarketcrash', 'StocksToBuy', 'stockstow...   \n",
              "4  ['Bidenomics', 'inflation', 'recession', 'stoc...   \n",
              "\n",
              "                  created_at  user followers count  replycount  retweetcount  \\\n",
              "0  2022-06-19 23:34:29+00:00                 10669           0             0   \n",
              "1  2022-06-19 23:28:20+00:00                   100           0             1   \n",
              "2  2022-06-19 23:11:52+00:00                     0           0             0   \n",
              "3  2022-06-19 22:57:27+00:00                    54           0             2   \n",
              "4  2022-06-19 22:45:55+00:00                    28           0             0   \n",
              "\n",
              "   likecount  quotecount language  media  retweetedTweet  quotedtweet  \\\n",
              "0          1           0       en    NaN             NaN          NaN   \n",
              "1          8           0       en    NaN             NaN          NaN   \n",
              "2          0           0       en    NaN             NaN          NaN   \n",
              "3          2           0       en    NaN             NaN          NaN   \n",
              "4          0           0       en    NaN             NaN          NaN   \n",
              "\n",
              "   inReplyToTweetId                inReplyToUser  \\\n",
              "0               NaN                          NaN   \n",
              "1               NaN                          NaN   \n",
              "2               NaN                          NaN   \n",
              "3               NaN                          NaN   \n",
              "4      1.538653e+18  https://twitter.com/rdrhwke   \n",
              "\n",
              "                                      mentionedUsers  \n",
              "0                                                NaN  \n",
              "1                                                NaN  \n",
              "2                                                NaN  \n",
              "3                                                NaN  \n",
              "4  [User(username='rdrhwke', id=43753976, display...  "
            ],
            "text/html": [
              "\n",
              "  <div id=\"df-39bda2ea-afec-4880-ac63-55186d867eae\" class=\"colab-df-container\">\n",
              "    <div>\n",
              "<style scoped>\n",
              "    .dataframe tbody tr th:only-of-type {\n",
              "        vertical-align: middle;\n",
              "    }\n",
              "\n",
              "    .dataframe tbody tr th {\n",
              "        vertical-align: top;\n",
              "    }\n",
              "\n",
              "    .dataframe thead th {\n",
              "        text-align: right;\n",
              "    }\n",
              "</style>\n",
              "<table border=\"1\" class=\"dataframe\">\n",
              "  <thead>\n",
              "    <tr style=\"text-align: right;\">\n",
              "      <th></th>\n",
              "      <th>id</th>\n",
              "      <th>text</th>\n",
              "      <th>text_sentiment</th>\n",
              "      <th>username</th>\n",
              "      <th>hashtags</th>\n",
              "      <th>created_at</th>\n",
              "      <th>user followers count</th>\n",
              "      <th>replycount</th>\n",
              "      <th>retweetcount</th>\n",
              "      <th>likecount</th>\n",
              "      <th>quotecount</th>\n",
              "      <th>language</th>\n",
              "      <th>media</th>\n",
              "      <th>retweetedTweet</th>\n",
              "      <th>quotedtweet</th>\n",
              "      <th>inReplyToTweetId</th>\n",
              "      <th>inReplyToUser</th>\n",
              "      <th>mentionedUsers</th>\n",
              "    </tr>\n",
              "  </thead>\n",
              "  <tbody>\n",
              "    <tr>\n",
              "      <th>0</th>\n",
              "      <td>1538666561615015938</td>\n",
              "      <td>When will the #NYSE #stockmarketcrash happen?</td>\n",
              "      <td>Neutral</td>\n",
              "      <td>tradexlnc</td>\n",
              "      <td>['NYSE', 'stockmarketcrash']</td>\n",
              "      <td>2022-06-19 23:34:29+00:00</td>\n",
              "      <td>10669</td>\n",
              "      <td>0</td>\n",
              "      <td>0</td>\n",
              "      <td>1</td>\n",
              "      <td>0</td>\n",
              "      <td>en</td>\n",
              "      <td>NaN</td>\n",
              "      <td>NaN</td>\n",
              "      <td>NaN</td>\n",
              "      <td>NaN</td>\n",
              "      <td>NaN</td>\n",
              "      <td>NaN</td>\n",
              "    </tr>\n",
              "    <tr>\n",
              "      <th>1</th>\n",
              "      <td>1538665013799489536</td>\n",
              "      <td>Aaj ka gyan:\\n\\nIf a company isn't a quality c...</td>\n",
              "      <td>Negative</td>\n",
              "      <td>niftymonday</td>\n",
              "      <td>['stockmarkets', 'stockmarketcrash', 'trading'...</td>\n",
              "      <td>2022-06-19 23:28:20+00:00</td>\n",
              "      <td>100</td>\n",
              "      <td>0</td>\n",
              "      <td>1</td>\n",
              "      <td>8</td>\n",
              "      <td>0</td>\n",
              "      <td>en</td>\n",
              "      <td>NaN</td>\n",
              "      <td>NaN</td>\n",
              "      <td>NaN</td>\n",
              "      <td>NaN</td>\n",
              "      <td>NaN</td>\n",
              "      <td>NaN</td>\n",
              "    </tr>\n",
              "    <tr>\n",
              "      <th>2</th>\n",
              "      <td>1538660868027830274</td>\n",
              "      <td>The stock market needs to crash hard to make i...</td>\n",
              "      <td>Negative</td>\n",
              "      <td>kyle132313</td>\n",
              "      <td>['stockmarketcrash', 'economy', 'rich', 'Fed']</td>\n",
              "      <td>2022-06-19 23:11:52+00:00</td>\n",
              "      <td>0</td>\n",
              "      <td>0</td>\n",
              "      <td>0</td>\n",
              "      <td>0</td>\n",
              "      <td>0</td>\n",
              "      <td>en</td>\n",
              "      <td>NaN</td>\n",
              "      <td>NaN</td>\n",
              "      <td>NaN</td>\n",
              "      <td>NaN</td>\n",
              "      <td>NaN</td>\n",
              "      <td>NaN</td>\n",
              "    </tr>\n",
              "    <tr>\n",
              "      <th>3</th>\n",
              "      <td>1538657239849836544</td>\n",
              "      <td>Those who are \"Buying on DIP\" will very soon b...</td>\n",
              "      <td>Neutral</td>\n",
              "      <td>ChintanRajput16</td>\n",
              "      <td>['stockmarketcrash', 'StocksToBuy', 'stockstow...</td>\n",
              "      <td>2022-06-19 22:57:27+00:00</td>\n",
              "      <td>54</td>\n",
              "      <td>0</td>\n",
              "      <td>2</td>\n",
              "      <td>2</td>\n",
              "      <td>0</td>\n",
              "      <td>en</td>\n",
              "      <td>NaN</td>\n",
              "      <td>NaN</td>\n",
              "      <td>NaN</td>\n",
              "      <td>NaN</td>\n",
              "      <td>NaN</td>\n",
              "      <td>NaN</td>\n",
              "    </tr>\n",
              "    <tr>\n",
              "      <th>4</th>\n",
              "      <td>1538654339044196358</td>\n",
              "      <td>@rdrhwke I wish our so-called President were t...</td>\n",
              "      <td>Positive</td>\n",
              "      <td>DrPCJustice</td>\n",
              "      <td>['Bidenomics', 'inflation', 'recession', 'stoc...</td>\n",
              "      <td>2022-06-19 22:45:55+00:00</td>\n",
              "      <td>28</td>\n",
              "      <td>0</td>\n",
              "      <td>0</td>\n",
              "      <td>0</td>\n",
              "      <td>0</td>\n",
              "      <td>en</td>\n",
              "      <td>NaN</td>\n",
              "      <td>NaN</td>\n",
              "      <td>NaN</td>\n",
              "      <td>1.538653e+18</td>\n",
              "      <td>https://twitter.com/rdrhwke</td>\n",
              "      <td>[User(username='rdrhwke', id=43753976, display...</td>\n",
              "    </tr>\n",
              "  </tbody>\n",
              "</table>\n",
              "</div>\n",
              "    <div class=\"colab-df-buttons\">\n",
              "\n",
              "  <div class=\"colab-df-container\">\n",
              "    <button class=\"colab-df-convert\" onclick=\"convertToInteractive('df-39bda2ea-afec-4880-ac63-55186d867eae')\"\n",
              "            title=\"Convert this dataframe to an interactive table.\"\n",
              "            style=\"display:none;\">\n",
              "\n",
              "  <svg xmlns=\"http://www.w3.org/2000/svg\" height=\"24px\" viewBox=\"0 -960 960 960\">\n",
              "    <path d=\"M120-120v-720h720v720H120Zm60-500h600v-160H180v160Zm220 220h160v-160H400v160Zm0 220h160v-160H400v160ZM180-400h160v-160H180v160Zm440 0h160v-160H620v160ZM180-180h160v-160H180v160Zm440 0h160v-160H620v160Z\"/>\n",
              "  </svg>\n",
              "    </button>\n",
              "\n",
              "  <style>\n",
              "    .colab-df-container {\n",
              "      display:flex;\n",
              "      gap: 12px;\n",
              "    }\n",
              "\n",
              "    .colab-df-convert {\n",
              "      background-color: #E8F0FE;\n",
              "      border: none;\n",
              "      border-radius: 50%;\n",
              "      cursor: pointer;\n",
              "      display: none;\n",
              "      fill: #1967D2;\n",
              "      height: 32px;\n",
              "      padding: 0 0 0 0;\n",
              "      width: 32px;\n",
              "    }\n",
              "\n",
              "    .colab-df-convert:hover {\n",
              "      background-color: #E2EBFA;\n",
              "      box-shadow: 0px 1px 2px rgba(60, 64, 67, 0.3), 0px 1px 3px 1px rgba(60, 64, 67, 0.15);\n",
              "      fill: #174EA6;\n",
              "    }\n",
              "\n",
              "    .colab-df-buttons div {\n",
              "      margin-bottom: 4px;\n",
              "    }\n",
              "\n",
              "    [theme=dark] .colab-df-convert {\n",
              "      background-color: #3B4455;\n",
              "      fill: #D2E3FC;\n",
              "    }\n",
              "\n",
              "    [theme=dark] .colab-df-convert:hover {\n",
              "      background-color: #434B5C;\n",
              "      box-shadow: 0px 1px 3px 1px rgba(0, 0, 0, 0.15);\n",
              "      filter: drop-shadow(0px 1px 2px rgba(0, 0, 0, 0.3));\n",
              "      fill: #FFFFFF;\n",
              "    }\n",
              "  </style>\n",
              "\n",
              "    <script>\n",
              "      const buttonEl =\n",
              "        document.querySelector('#df-39bda2ea-afec-4880-ac63-55186d867eae button.colab-df-convert');\n",
              "      buttonEl.style.display =\n",
              "        google.colab.kernel.accessAllowed ? 'block' : 'none';\n",
              "\n",
              "      async function convertToInteractive(key) {\n",
              "        const element = document.querySelector('#df-39bda2ea-afec-4880-ac63-55186d867eae');\n",
              "        const dataTable =\n",
              "          await google.colab.kernel.invokeFunction('convertToInteractive',\n",
              "                                                    [key], {});\n",
              "        if (!dataTable) return;\n",
              "\n",
              "        const docLinkHtml = 'Like what you see? Visit the ' +\n",
              "          '<a target=\"_blank\" href=https://colab.research.google.com/notebooks/data_table.ipynb>data table notebook</a>'\n",
              "          + ' to learn more about interactive tables.';\n",
              "        element.innerHTML = '';\n",
              "        dataTable['output_type'] = 'display_data';\n",
              "        await google.colab.output.renderOutput(dataTable, element);\n",
              "        const docLink = document.createElement('div');\n",
              "        docLink.innerHTML = docLinkHtml;\n",
              "        element.appendChild(docLink);\n",
              "      }\n",
              "    </script>\n",
              "  </div>\n",
              "\n",
              "\n",
              "<div id=\"df-b0752648-131a-4647-833a-99ac0050fe99\">\n",
              "  <button class=\"colab-df-quickchart\" onclick=\"quickchart('df-b0752648-131a-4647-833a-99ac0050fe99')\"\n",
              "            title=\"Suggest charts\"\n",
              "            style=\"display:none;\">\n",
              "\n",
              "<svg xmlns=\"http://www.w3.org/2000/svg\" height=\"24px\"viewBox=\"0 0 24 24\"\n",
              "     width=\"24px\">\n",
              "    <g>\n",
              "        <path d=\"M19 3H5c-1.1 0-2 .9-2 2v14c0 1.1.9 2 2 2h14c1.1 0 2-.9 2-2V5c0-1.1-.9-2-2-2zM9 17H7v-7h2v7zm4 0h-2V7h2v10zm4 0h-2v-4h2v4z\"/>\n",
              "    </g>\n",
              "</svg>\n",
              "  </button>\n",
              "\n",
              "<style>\n",
              "  .colab-df-quickchart {\n",
              "      --bg-color: #E8F0FE;\n",
              "      --fill-color: #1967D2;\n",
              "      --hover-bg-color: #E2EBFA;\n",
              "      --hover-fill-color: #174EA6;\n",
              "      --disabled-fill-color: #AAA;\n",
              "      --disabled-bg-color: #DDD;\n",
              "  }\n",
              "\n",
              "  [theme=dark] .colab-df-quickchart {\n",
              "      --bg-color: #3B4455;\n",
              "      --fill-color: #D2E3FC;\n",
              "      --hover-bg-color: #434B5C;\n",
              "      --hover-fill-color: #FFFFFF;\n",
              "      --disabled-bg-color: #3B4455;\n",
              "      --disabled-fill-color: #666;\n",
              "  }\n",
              "\n",
              "  .colab-df-quickchart {\n",
              "    background-color: var(--bg-color);\n",
              "    border: none;\n",
              "    border-radius: 50%;\n",
              "    cursor: pointer;\n",
              "    display: none;\n",
              "    fill: var(--fill-color);\n",
              "    height: 32px;\n",
              "    padding: 0;\n",
              "    width: 32px;\n",
              "  }\n",
              "\n",
              "  .colab-df-quickchart:hover {\n",
              "    background-color: var(--hover-bg-color);\n",
              "    box-shadow: 0 1px 2px rgba(60, 64, 67, 0.3), 0 1px 3px 1px rgba(60, 64, 67, 0.15);\n",
              "    fill: var(--button-hover-fill-color);\n",
              "  }\n",
              "\n",
              "  .colab-df-quickchart-complete:disabled,\n",
              "  .colab-df-quickchart-complete:disabled:hover {\n",
              "    background-color: var(--disabled-bg-color);\n",
              "    fill: var(--disabled-fill-color);\n",
              "    box-shadow: none;\n",
              "  }\n",
              "\n",
              "  .colab-df-spinner {\n",
              "    border: 2px solid var(--fill-color);\n",
              "    border-color: transparent;\n",
              "    border-bottom-color: var(--fill-color);\n",
              "    animation:\n",
              "      spin 1s steps(1) infinite;\n",
              "  }\n",
              "\n",
              "  @keyframes spin {\n",
              "    0% {\n",
              "      border-color: transparent;\n",
              "      border-bottom-color: var(--fill-color);\n",
              "      border-left-color: var(--fill-color);\n",
              "    }\n",
              "    20% {\n",
              "      border-color: transparent;\n",
              "      border-left-color: var(--fill-color);\n",
              "      border-top-color: var(--fill-color);\n",
              "    }\n",
              "    30% {\n",
              "      border-color: transparent;\n",
              "      border-left-color: var(--fill-color);\n",
              "      border-top-color: var(--fill-color);\n",
              "      border-right-color: var(--fill-color);\n",
              "    }\n",
              "    40% {\n",
              "      border-color: transparent;\n",
              "      border-right-color: var(--fill-color);\n",
              "      border-top-color: var(--fill-color);\n",
              "    }\n",
              "    60% {\n",
              "      border-color: transparent;\n",
              "      border-right-color: var(--fill-color);\n",
              "    }\n",
              "    80% {\n",
              "      border-color: transparent;\n",
              "      border-right-color: var(--fill-color);\n",
              "      border-bottom-color: var(--fill-color);\n",
              "    }\n",
              "    90% {\n",
              "      border-color: transparent;\n",
              "      border-bottom-color: var(--fill-color);\n",
              "    }\n",
              "  }\n",
              "</style>\n",
              "\n",
              "  <script>\n",
              "    async function quickchart(key) {\n",
              "      const quickchartButtonEl =\n",
              "        document.querySelector('#' + key + ' button');\n",
              "      quickchartButtonEl.disabled = true;  // To prevent multiple clicks.\n",
              "      quickchartButtonEl.classList.add('colab-df-spinner');\n",
              "      try {\n",
              "        const charts = await google.colab.kernel.invokeFunction(\n",
              "            'suggestCharts', [key], {});\n",
              "      } catch (error) {\n",
              "        console.error('Error during call to suggestCharts:', error);\n",
              "      }\n",
              "      quickchartButtonEl.classList.remove('colab-df-spinner');\n",
              "      quickchartButtonEl.classList.add('colab-df-quickchart-complete');\n",
              "    }\n",
              "    (() => {\n",
              "      let quickchartButtonEl =\n",
              "        document.querySelector('#df-b0752648-131a-4647-833a-99ac0050fe99 button');\n",
              "      quickchartButtonEl.style.display =\n",
              "        google.colab.kernel.accessAllowed ? 'block' : 'none';\n",
              "    })();\n",
              "  </script>\n",
              "</div>\n",
              "\n",
              "    </div>\n",
              "  </div>\n"
            ],
            "application/vnd.google.colaboratory.intrinsic+json": {
              "type": "dataframe",
              "variable_name": "df",
              "summary": "{\n  \"name\": \"df\",\n  \"rows\": 33946,\n  \"fields\": [\n    {\n      \"column\": \"id\",\n      \"properties\": {\n        \"dtype\": \"number\",\n        \"std\": 18841429581547544,\n        \"min\": 1477401716291158020,\n        \"max\": 1538670262874361857,\n        \"num_unique_values\": 33556,\n        \"samples\": [\n          1537660922562588673,\n          1493171946799845379,\n          1525322696594034690\n        ],\n        \"semantic_type\": \"\",\n        \"description\": \"\"\n      }\n    },\n    {\n      \"column\": \"text\",\n      \"properties\": {\n        \"dtype\": \"string\",\n        \"num_unique_values\": 33164,\n        \"samples\": [\n          \"Red is the new green\\u2757\\n\\n#investor #stocks #stockmarketcrash\",\n          \"Either exit or slap yourself later \\n#BTC #Bitcoin #bearmarket\",\n          \"Bulls are alive. #stockmarketcrash\"\n        ],\n        \"semantic_type\": \"\",\n        \"description\": \"\"\n      }\n    },\n    {\n      \"column\": \"text_sentiment\",\n      \"properties\": {\n        \"dtype\": \"category\",\n        \"num_unique_values\": 3,\n        \"samples\": [\n          \"Neutral\",\n          \"Negative\",\n          \"Positive\"\n        ],\n        \"semantic_type\": \"\",\n        \"description\": \"\"\n      }\n    },\n    {\n      \"column\": \"username\",\n      \"properties\": {\n        \"dtype\": \"string\",\n        \"num_unique_values\": 20984,\n        \"samples\": [\n          \"gudanglink155\",\n          \"golden_tiger13\",\n          \"arifulhb\"\n        ],\n        \"semantic_type\": \"\",\n        \"description\": \"\"\n      }\n    },\n    {\n      \"column\": \"hashtags\",\n      \"properties\": {\n        \"dtype\": \"string\",\n        \"num_unique_values\": 18730,\n        \"samples\": [\n          \"['bullmarket', 'bearmarket', 'Bitcoin']\",\n          \"['RussiaUkraineCrisis', 'stockmarketcrash', 'investing']\",\n          \"['startups', 'stockmarketcrash']\"\n        ],\n        \"semantic_type\": \"\",\n        \"description\": \"\"\n      }\n    },\n    {\n      \"column\": \"created_at\",\n      \"properties\": {\n        \"dtype\": \"object\",\n        \"num_unique_values\": 33210,\n        \"samples\": [\n          \"2022-02-14 10:08:11+00:00\",\n          \"2022-05-11 17:14:39+00:00\",\n          \"2022-06-13 17:28:37+00:00\"\n        ],\n        \"semantic_type\": \"\",\n        \"description\": \"\"\n      }\n    },\n    {\n      \"column\": \"user followers count\",\n      \"properties\": {\n        \"dtype\": \"number\",\n        \"std\": 76477,\n        \"min\": 0,\n        \"max\": 13325818,\n        \"num_unique_values\": 4118,\n        \"samples\": [\n          3665,\n          2297,\n          1222\n        ],\n        \"semantic_type\": \"\",\n        \"description\": \"\"\n      }\n    },\n    {\n      \"column\": \"replycount\",\n      \"properties\": {\n        \"dtype\": \"number\",\n        \"std\": 18,\n        \"min\": 0,\n        \"max\": 2604,\n        \"num_unique_values\": 124,\n        \"samples\": [\n          20,\n          52,\n          516\n        ],\n        \"semantic_type\": \"\",\n        \"description\": \"\"\n      }\n    },\n    {\n      \"column\": \"retweetcount\",\n      \"properties\": {\n        \"dtype\": \"number\",\n        \"std\": 23,\n        \"min\": 0,\n        \"max\": 3269,\n        \"num_unique_values\": 142,\n        \"samples\": [\n          464,\n          69,\n          47\n        ],\n        \"semantic_type\": \"\",\n        \"description\": \"\"\n      }\n    },\n    {\n      \"column\": \"likecount\",\n      \"properties\": {\n        \"dtype\": \"number\",\n        \"std\": 108,\n        \"min\": 0,\n        \"max\": 13564,\n        \"num_unique_values\": 322,\n        \"samples\": [\n          172,\n          116,\n          108\n        ],\n        \"semantic_type\": \"\",\n        \"description\": \"\"\n      }\n    },\n    {\n      \"column\": \"quotecount\",\n      \"properties\": {\n        \"dtype\": \"number\",\n        \"std\": 1,\n        \"min\": 0,\n        \"max\": 125,\n        \"num_unique_values\": 31,\n        \"samples\": [\n          25,\n          10,\n          18\n        ],\n        \"semantic_type\": \"\",\n        \"description\": \"\"\n      }\n    },\n    {\n      \"column\": \"language\",\n      \"properties\": {\n        \"dtype\": \"category\",\n        \"num_unique_values\": 51,\n        \"samples\": [\n          \"th\",\n          \"ar\",\n          \"or\"\n        ],\n        \"semantic_type\": \"\",\n        \"description\": \"\"\n      }\n    },\n    {\n      \"column\": \"media\",\n      \"properties\": {\n        \"dtype\": \"number\",\n        \"std\": null,\n        \"min\": null,\n        \"max\": null,\n        \"num_unique_values\": 0,\n        \"samples\": [],\n        \"semantic_type\": \"\",\n        \"description\": \"\"\n      }\n    },\n    {\n      \"column\": \"retweetedTweet\",\n      \"properties\": {\n        \"dtype\": \"number\",\n        \"std\": null,\n        \"min\": null,\n        \"max\": null,\n        \"num_unique_values\": 0,\n        \"samples\": [],\n        \"semantic_type\": \"\",\n        \"description\": \"\"\n      }\n    },\n    {\n      \"column\": \"quotedtweet\",\n      \"properties\": {\n        \"dtype\": \"number\",\n        \"std\": null,\n        \"min\": null,\n        \"max\": null,\n        \"num_unique_values\": 0,\n        \"samples\": [],\n        \"semantic_type\": \"\",\n        \"description\": \"\"\n      }\n    },\n    {\n      \"column\": \"inReplyToTweetId\",\n      \"properties\": {\n        \"dtype\": \"number\",\n        \"std\": 2.5088383989653292e+16,\n        \"min\": 8.181003324589015e+17,\n        \"max\": 1.5386572438638674e+18,\n        \"num_unique_values\": 4683,\n        \"samples\": [],\n        \"semantic_type\": \"\",\n        \"description\": \"\"\n      }\n    },\n    {\n      \"column\": \"inReplyToUser\",\n      \"properties\": {\n        \"dtype\": \"category\",\n        \"num_unique_values\": 3392,\n        \"samples\": [],\n        \"semantic_type\": \"\",\n        \"description\": \"\"\n      }\n    },\n    {\n      \"column\": \"mentionedUsers\",\n      \"properties\": {\n        \"dtype\": \"category\",\n        \"num_unique_values\": 3937,\n        \"samples\": [],\n        \"semantic_type\": \"\",\n        \"description\": \"\"\n      }\n    }\n  ]\n}"
            }
          },
          "metadata": {},
          "execution_count": 2
        }
      ]
    },
    {
      "cell_type": "code",
      "source": [
        "#PRE-PROCESSING"
      ],
      "metadata": {
        "id": "vOotUwsWQqkL"
      },
      "execution_count": 3,
      "outputs": []
    },
    {
      "cell_type": "code",
      "source": [
        "def preprocess(input_text):\n",
        "    input_text = input_text.lower()\n",
        "    input_text = re.sub(r'https?:\\/\\/\\S+', '', input_text)\n",
        "    input_text = re.sub(r\"www\\.[a-z]?\\.?(com)+|[a-z]+\\.(com)\", '', input_text)\n",
        "    input_text = re.sub(r'{link}', '', input_text)\n",
        "    input_text = re.sub(r\"\\[video\\]\", '', input_text)\n",
        "    input_text = re.sub(r'&[a-z]+;', '', input_text)\n",
        "    input_text = re.sub(r\"[^a-z\\s\\(\\-:\\)\\\\\\/\\];='#]\", '', input_text)\n",
        "    input_text = re.sub(r'@', '', input_text)\n",
        "    return input_text"
      ],
      "metadata": {
        "id": "8Rjd0f2b41ka"
      },
      "execution_count": 4,
      "outputs": []
    },
    {
      "cell_type": "code",
      "source": [
        "#Labelling the preprocessed data\n",
        "df['preprocessed_text'] = df['text'].apply(preprocess)"
      ],
      "metadata": {
        "id": "U7Gzj2HY55X3"
      },
      "execution_count": 5,
      "outputs": []
    },
    {
      "cell_type": "code",
      "source": [
        "#Split the preprocessed data into labels and features\n",
        "X = df['preprocessed_text']\n",
        "y = df['text_sentiment']"
      ],
      "metadata": {
        "id": "G9d1FjvY6zLE"
      },
      "execution_count": 6,
      "outputs": []
    },
    {
      "cell_type": "markdown",
      "source": [],
      "metadata": {
        "id": "XJVBdNfe7XUI"
      }
    },
    {
      "cell_type": "code",
      "source": [
        "#Splitting the preprocessed data into taining and test data\n",
        "X_train, X_test, y_train, y_test = train_test_split(X, y, test_size=0.2, stratify=y, random_state=17)"
      ],
      "metadata": {
        "id": "rvYq48977Kz5"
      },
      "execution_count": 7,
      "outputs": []
    },
    {
      "cell_type": "code",
      "source": [
        "#Converting text into a bag-of-words model\n",
        "vectorizer = CountVectorizer()\n",
        "X_train_vec = vectorizer.fit_transform(X_train)\n",
        "X_test_vec = vectorizer.transform(X_test)\n",
        "\n",
        "chi2_sqaure = SelectKBest(chi2, k=100)\n",
        "X_train_new_bow = chi2_sqaure.fit_transform(X_train_vec,y_train)\n",
        "X_test_new_bow = chi2_sqaure.transform(X_test_vec)\n",
        "\n",
        "\n",
        "# Train an SVM classifier\n",
        "svm_classifier = SVC(max_iter=5000)\n",
        "svm_classifier.fit(X_train_new_bow, y_train)\n",
        "\n",
        "# Predict on test data with SVM Model\n",
        "y_pred_svm = svm_classifier.predict(X_test_new_bow)\n",
        "\n",
        "# Report accuracy\n",
        "svm_bag_accuracy = accuracy_score(y_test, y_pred_svm)\n",
        "print(f'Accuracy of Bag of words model: {svm_bag_accuracy:.2f}')\n"
      ],
      "metadata": {
        "colab": {
          "base_uri": "https://localhost:8080/"
        },
        "id": "sn1vVtSSh8sf",
        "outputId": "14838d53-bb38-485c-ebe7-ea8fc2e43163"
      },
      "execution_count": 12,
      "outputs": [
        {
          "output_type": "stream",
          "name": "stdout",
          "text": [
            "Accuracy of Bag of words model: 0.67\n"
          ]
        }
      ]
    },
    {
      "cell_type": "code",
      "source": [
        "#Converting text into a TF-IDF model\n",
        "tf_idf = TfidfVectorizer()\n",
        "X_train_tf_idf = tf_idf.fit_transform(X_train)\n",
        "X_test_tf_idf = tf_idf.transform(X_test)\n",
        "\n",
        "chi2_sqaure = SelectKBest(chi2, k=100)\n",
        "X_train_new_bow = chi2_sqaure.fit_transform(X_train_vec,y_train)\n",
        "X_test_new_bow = chi2_sqaure.transform(X_test_vec)\n",
        "\n",
        "# Train an SVM classifier\n",
        "svm_classifier = SVC(max_iter=5000)\n",
        "svm_classifier.fit(X_train_new_bow, y_train)\n",
        "\n",
        "# Predict on test data with SVM Model\n",
        "y_pred_svm = svm_classifier.predict(X_test_new_bow)\n",
        "\n",
        "# Report accuracy\n",
        "svm_tf_idf_accuracy = accuracy_score(y_test, y_pred_svm)\n",
        "print(f'Accuracy of TF-IDF model using SVM model: {svm_tf_idf_accuracy:.2f}')\n"
      ],
      "metadata": {
        "colab": {
          "base_uri": "https://localhost:8080/"
        },
        "id": "1gCMuo-K7WbI",
        "outputId": "5f48ae62-a7ac-4d6e-de9a-8e3f5782d713"
      },
      "execution_count": 13,
      "outputs": [
        {
          "output_type": "stream",
          "name": "stdout",
          "text": [
            "Accuracy of TF-IDF model using SVM model: 0.67\n"
          ]
        }
      ]
    },
    {
      "cell_type": "code",
      "source": [
        "#Techniques for Sentiment Analysis"
      ],
      "metadata": {
        "id": "bsoegdkxQfXo"
      },
      "execution_count": 14,
      "outputs": []
    },
    {
      "cell_type": "code",
      "source": [
        "word2vec_model = api.load('word2vec-google-news-300')"
      ],
      "metadata": {
        "colab": {
          "base_uri": "https://localhost:8080/"
        },
        "id": "fxAlzf5vlZQ4",
        "outputId": "dbb0e4e0-932a-4e0d-88d7-a3f987a35776"
      },
      "execution_count": 8,
      "outputs": [
        {
          "output_type": "stream",
          "name": "stdout",
          "text": [
            "[==================================================] 100.0% 1662.8/1662.8MB downloaded\n"
          ]
        }
      ]
    },
    {
      "cell_type": "code",
      "source": [
        "X_train, X_test, y_train, y_test = train_test_split(X, y, test_size=0.2, stratify=y, random_state=17)\n",
        "\n",
        "\n",
        "# Function to compute average Word2Vec embedding for each sentence\n",
        "def get_word2vec_embeddings(text):\n",
        "    words = text.split()\n",
        "    word_vecs = [word2vec_model[word] for word in words if word in word2vec_model]\n",
        "    if len(word_vecs) == 0:\n",
        "        return np.zeros(300)\n",
        "    return np.mean(word_vecs, axis=0)\n",
        "\n",
        "X_word2vec = np.array([get_word2vec_embeddings(text) for text in X_train])\n",
        "X_word2vec_test = np.array([get_word2vec_embeddings(text) for text in X_test])\n",
        "\n",
        "\n",
        "# Train the SVM\n",
        "svm_classifier = SVC()\n",
        "svm_classifier.fit(X_word2vec, y_train)\n",
        "\n",
        "# Predict on test data using SVM model\n",
        "y_pred_w2v = svm_classifier.predict(X_word2vec_test)\n",
        "\n",
        "#Report the accuracy score\n",
        "accuracy_w2v = accuracy_score(y_test, y_pred_w2v)\n",
        "print(f'Accuracy with Word2Vec using SVM Model: {accuracy_w2v:.2f}')\n"
      ],
      "metadata": {
        "id": "q0YmfzYmCw82",
        "colab": {
          "base_uri": "https://localhost:8080/"
        },
        "outputId": "deb1cc26-b421-4727-b044-6d34945817a6"
      },
      "execution_count": 9,
      "outputs": [
        {
          "output_type": "stream",
          "name": "stdout",
          "text": [
            "Accuracy with Word2Vec using SVM Model: 0.76\n"
          ]
        }
      ]
    },
    {
      "cell_type": "code",
      "source": [
        "glove_model = api.load(\"glove-wiki-gigaword-300\")"
      ],
      "metadata": {
        "colab": {
          "base_uri": "https://localhost:8080/"
        },
        "id": "LjGn0gBRoNWB",
        "outputId": "2fba638b-e887-4a20-b67d-35e44db2e97b"
      },
      "execution_count": 10,
      "outputs": [
        {
          "output_type": "stream",
          "name": "stdout",
          "text": [
            "[==================================================] 100.0% 376.1/376.1MB downloaded\n"
          ]
        }
      ]
    },
    {
      "cell_type": "code",
      "source": [
        "X_train, X_test, y_train, y_test = train_test_split(X, y, test_size=0.2, stratify=y, random_state=17)\n",
        "\n",
        "# Function to compute GloVe embedding for each sentence\n",
        "def get_glove_embeddings(input_text):\n",
        "    words = input_text.split()\n",
        "    word_vecs = [glove_model[word] for word in words if word in glove_model]\n",
        "    if len(word_vecs) == 0:\n",
        "        return np.zeros(300)\n",
        "    return np.mean(word_vecs, axis=0)\n",
        "\n",
        "X_glove = np.array([get_glove_embeddings(text) for text in X_train])\n",
        "X_glove_test = np.array([get_glove_embeddings(text) for text in X_test])\n",
        "\n",
        "\n",
        "# Train the SVM\n",
        "svm_classifier = SVC()\n",
        "svm_classifier.fit(X_glove, y_train)\n",
        "\n",
        "# Predict on test data using SVM Model\n",
        "y_pred_glove = svm_classifier.predict(X_glove_test)\n",
        "\n",
        "#Report the accuracy\n",
        "accuracy_glove = accuracy_score(y_test, y_pred_glove)\n",
        "print(f'Accuracy with GloVe using SVM model: {accuracy_glove:.2f}')"
      ],
      "metadata": {
        "colab": {
          "base_uri": "https://localhost:8080/"
        },
        "id": "uRTDCe_WstIk",
        "outputId": "40544037-6678-440f-c513-f13b6cb0cb9c"
      },
      "execution_count": 11,
      "outputs": [
        {
          "output_type": "stream",
          "name": "stdout",
          "text": [
            "Accuracy with GloVe using SVM model: 0.71\n"
          ]
        }
      ]
    },
    {
      "cell_type": "code",
      "source": [
        "print('Displaying accuracy of all the models::::::::\\n')\n",
        "\n",
        "print(f'Accuracy of Bag of words using SVM Model: {svm_bag_accuracy:.2f}')\n",
        "print(f'Accuracy of TF-IDF model using SVM model: {svm_tf_idf_accuracy:.2f}')\n",
        "print(f'Accuracy with Word2Vec using SVM Model: {accuracy_w2v:.2f}')\n",
        "print(f'Accuracy with GloVe using SVM model: {accuracy_glove:.2f}')\n",
        "print('\\n')\n",
        "print(f'The algorithm which gave me the highest accuracy is Word2vec with score of {accuracy_w2v:.2f}')"
      ],
      "metadata": {
        "colab": {
          "base_uri": "https://localhost:8080/"
        },
        "id": "BwmaFhts1EqN",
        "outputId": "afc31720-903a-4534-c5c3-957db86cf964"
      },
      "execution_count": 17,
      "outputs": [
        {
          "output_type": "stream",
          "name": "stdout",
          "text": [
            "Displaying accuracy of all the models::::::::\n",
            "\n",
            "Accuracy of Bag of words using SVM Model: 0.67\n",
            "Accuracy of TF-IDF model using SVM model: 0.67\n",
            "Accuracy with Word2Vec using SVM Model: 0.76\n",
            "Accuracy with GloVe using SVM model: 0.71\n",
            "\n",
            "\n",
            "The algorithm which gave me the highest accuracy is Word2vec with score of 0.76\n"
          ]
        }
      ]
    },
    {
      "cell_type": "code",
      "source": [
        "#BONUS QUESTION\n",
        "embed = hub.load(\"https://tfhub.dev/google/universal-sentence-encoder/4\")"
      ],
      "metadata": {
        "id": "y87IhXhUGkaQ"
      },
      "execution_count": 18,
      "outputs": []
    },
    {
      "cell_type": "code",
      "source": [
        "X_train, X_test, y_train, y_test = train_test_split(X, y, test_size=0.2, stratify=y, random_state=56)\n",
        "\n",
        "# Create sentence embeddings\n",
        "X_universal = np.array([embed([text]).numpy()[0] for text in X_train])\n",
        "X_universal_test = np.array([embed([text]).numpy()[0] for text in X_test])\n",
        "\n",
        "# Train the SVM\n",
        "svm_universal = SVC()\n",
        "svm_universal.fit(X_universal, y_train)\n",
        "\n",
        "# Predict on test data using SVM model\n",
        "y_pred_use = svm_universal.predict(X_universal_test)\n",
        "\n",
        "#Reporting the accuracy\n",
        "accuracy_use = accuracy_score(y_test, y_pred_use)\n",
        "print(f'Accuracy with Universal Sentence Encoder using SVM model: {accuracy_use:.2f}')\n"
      ],
      "metadata": {
        "colab": {
          "base_uri": "https://localhost:8080/"
        },
        "id": "hnsuPVq8FU2V",
        "outputId": "084d417d-e45f-46d7-b0a0-cfa671e0e45d"
      },
      "execution_count": 19,
      "outputs": [
        {
          "output_type": "stream",
          "name": "stdout",
          "text": [
            "Accuracy with Universal Sentence Encoder using SVM model: 0.70\n"
          ]
        }
      ]
    }
  ]
}